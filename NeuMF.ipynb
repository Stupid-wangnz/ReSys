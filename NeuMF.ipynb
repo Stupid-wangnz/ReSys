{
 "cells": [
  {
   "cell_type": "code",
   "execution_count": 47,
   "metadata": {},
   "outputs": [],
   "source": [
    "import torch\n",
    "import torch.nn as nn\n",
    "\n",
    "\n",
    "class NeuMF(nn.Module):\n",
    "    def __init__(self, n_users, n_items, latent_mlp, latent_mf, layers):\n",
    "        super().__init__()\n",
    "        self.embedding_user_mlp = nn.Embedding(num_embeddings=n_users, embedding_dim=latent_mlp)\n",
    "        self.embedding_item_mlp = nn.Embedding(num_embeddings=n_items, embedding_dim=latent_mlp)\n",
    "\n",
    "        self.embedding_user_mf = nn.Embedding(num_embeddings=n_users, embedding_dim=latent_mf)\n",
    "        self.embedding_item_mf = nn.Embedding(num_embeddings=n_items, embedding_dim=latent_mf)\n",
    "\n",
    "        self.fc_layers = nn.ModuleList([])\n",
    "        mlp_out = 0\n",
    "        for idx, (in_size, out_size) in enumerate(zip(layers[:-1], layers[1:])):\n",
    "            mlp_out = out_size\n",
    "            self.fc_layers.append(torch.nn.Linear(in_size, out_size))\n",
    "\n",
    "        self.affine_output = nn.Linear(latent_mf + mlp_out, 1)\n",
    "        self.logistic = nn.Sigmoid()\n",
    "\n",
    "    def forward(self, u, i):\n",
    "        u_embedding_mlp = self.embedding_user_mlp(u)\n",
    "        u_embedding_mf = self.embedding_user_mf(u)\n",
    "\n",
    "        i_embedding_mlp = self.embedding_item_mlp(i)\n",
    "        i_embedding_mf = self.embedding_item_mf(i)\n",
    "\n",
    "        mlp_vector = torch.cat([u_embedding_mlp, i_embedding_mlp], dim=-1)\n",
    "        mf_vector = torch.mul(u_embedding_mf, i_embedding_mf)\n",
    "\n",
    "        for i in range(len(self.fc_layers)):\n",
    "            mlp_vector = self.fc_layers[i](mlp_vector)\n",
    "            mlp_vector = nn.GELU()(mlp_vector)\n",
    "\n",
    "        vector = torch.cat([mlp_vector, mf_vector], dim=-1)\n",
    "        logits = self.affine_output(vector)\n",
    "        rating = self.logistic(logits)\n",
    "        return rating\n"
   ]
  },
  {
   "cell_type": "code",
   "execution_count": 48,
   "metadata": {},
   "outputs": [
    {
     "name": "stdout",
     "output_type": "stream",
     "text": [
      "Total number of user: 19835\n",
      "Total number of items: 456722\n"
     ]
    }
   ],
   "source": [
    "from utils import load_data, split_validate_train, transform_data\n",
    "import numpy as np\n",
    "\n",
    "data, test_data, id_index_dict, n_users, n_items = load_data()\n",
    "train_data, validate_data = split_validate_train(data, scale=100)\n",
    "\n",
    "train_data = transform_data(train_data)\n",
    "validate_data = transform_data(validate_data)\n",
    "\n",
    "epochs = 100\n",
    "batch_size = 128\n",
    "layers = np.array([100, 150, 100, 80])\n",
    "model = NeuMF(n_users=n_users, n_items=n_items, latent_mlp=50, latent_mf=50, layers=layers)\n",
    "criterion = nn.MSELoss()\n",
    "optimizer = torch.optim.Adam(model.parameters(), lr=0.003)\n"
   ]
  },
  {
   "cell_type": "code",
   "execution_count": 49,
   "metadata": {},
   "outputs": [],
   "source": [
    "def train(epoch):\n",
    "    model.train()\n",
    "    running_loss = 0\n",
    "    for idx in range(0, train_data.shape[0], batch_size):\n",
    "        batch = train_data[idx:idx+batch_size]\n",
    "        user_ids = torch.tensor(batch[:, 0], dtype=torch.long)\n",
    "        item_ids = torch.tensor(batch[:, 1], dtype=torch.long)\n",
    "        ratings = torch.tensor(batch[:, 2], dtype=torch.float)\n",
    "        preds = model(user_ids, item_ids)\n",
    "        optimizer.zero_grad()\n",
    "        loss = criterion(ratings, preds)\n",
    "        loss.backward()\n",
    "        optimizer.step()\n",
    "\n",
    "        running_loss += loss.item()\n",
    "    print(f'train epoch {epoch + 1}, loss: {running_loss:.3f}')\n",
    "\n",
    "def test():\n",
    "    model.eval()\n",
    "    loss = 0\n",
    "    for u, i, r in validate_data:\n",
    "        u = torch.tensor(u, dtype=torch.long)\n",
    "        i = torch.tensor(i, dtype=torch.long)\n",
    "        r = torch.tensor(r, dtype=torch.float)\n",
    "\n",
    "        pred = model(u, i)\n",
    "        loss += (pred * 100 - r)**2\n",
    "    \n",
    "    print(f'validate  rmse: {loss:.3f}')\n"
   ]
  },
  {
   "cell_type": "code",
   "execution_count": 50,
   "metadata": {},
   "outputs": [
    {
     "name": "stderr",
     "output_type": "stream",
     "text": [
      "c:\\Users\\LEGION\\.conda\\envs\\py38\\lib\\site-packages\\torch\\nn\\modules\\loss.py:536: UserWarning: Using a target size (torch.Size([128, 1])) that is different to the input size (torch.Size([128])). This will likely lead to incorrect results due to broadcasting. Please ensure they have the same size.\n",
      "  return F.mse_loss(input, target, reduction=self.reduction)\n"
     ]
    }
   ],
   "source": [
    "for epoch in range(epochs):\n",
    "    train(epoch)\n",
    "    test()"
   ]
  }
 ],
 "metadata": {
  "kernelspec": {
   "display_name": "py38",
   "language": "python",
   "name": "python3"
  },
  "language_info": {
   "codemirror_mode": {
    "name": "ipython",
    "version": 3
   },
   "file_extension": ".py",
   "mimetype": "text/x-python",
   "name": "python",
   "nbconvert_exporter": "python",
   "pygments_lexer": "ipython3",
   "version": "3.8.16"
  },
  "orig_nbformat": 4
 },
 "nbformat": 4,
 "nbformat_minor": 2
}
